{
 "cells": [
  {
   "cell_type": "code",
   "execution_count": 2,
   "metadata": {
    "colab": {
     "base_uri": "https://localhost:8080/",
     "height": 105
    },
    "colab_type": "code",
    "executionInfo": {
     "elapsed": 13054,
     "status": "ok",
     "timestamp": 1597325980641,
     "user": {
      "displayName": "Titus Ndondo",
      "photoUrl": "",
      "userId": "06857126821348095945"
     },
     "user_tz": -120
    },
    "id": "KJzLy-lVC2iK",
    "outputId": "4d77edbb-28e1-43c9-b3b3-b53494106cdc"
   },
   "outputs": [
    {
     "name": "stdout",
     "output_type": "stream",
     "text": [
      "Collecting backtrader\n",
      "\u001b[?25l  Downloading https://files.pythonhosted.org/packages/1a/bf/78aadd993e2719d6764603465fde163ba6ec15cf0e81f13e39ca13451348/backtrader-1.9.76.123-py2.py3-none-any.whl (410kB)\n",
      "\r",
      "\u001b[K     |▉                               | 10kB 16.5MB/s eta 0:00:01\r",
      "\u001b[K     |█▋                              | 20kB 1.6MB/s eta 0:00:01\r",
      "\u001b[K     |██▍                             | 30kB 2.1MB/s eta 0:00:01\r",
      "\u001b[K     |███▏                            | 40kB 2.3MB/s eta 0:00:01\r",
      "\u001b[K     |████                            | 51kB 2.0MB/s eta 0:00:01\r",
      "\u001b[K     |████▉                           | 61kB 2.3MB/s eta 0:00:01\r",
      "\u001b[K     |█████▋                          | 71kB 2.5MB/s eta 0:00:01\r",
      "\u001b[K     |██████▍                         | 81kB 2.7MB/s eta 0:00:01\r",
      "\u001b[K     |███████▏                        | 92kB 2.9MB/s eta 0:00:01\r",
      "\u001b[K     |████████                        | 102kB 2.8MB/s eta 0:00:01\r",
      "\u001b[K     |████████▉                       | 112kB 2.8MB/s eta 0:00:01\r",
      "\u001b[K     |█████████▋                      | 122kB 2.8MB/s eta 0:00:01\r",
      "\u001b[K     |██████████▍                     | 133kB 2.8MB/s eta 0:00:01\r",
      "\u001b[K     |███████████▏                    | 143kB 2.8MB/s eta 0:00:01\r",
      "\u001b[K     |████████████                    | 153kB 2.8MB/s eta 0:00:01\r",
      "\u001b[K     |████████████▉                   | 163kB 2.8MB/s eta 0:00:01\r",
      "\u001b[K     |█████████████▋                  | 174kB 2.8MB/s eta 0:00:01\r",
      "\u001b[K     |██████████████▍                 | 184kB 2.8MB/s eta 0:00:01\r",
      "\u001b[K     |███████████████▏                | 194kB 2.8MB/s eta 0:00:01\r",
      "\u001b[K     |████████████████                | 204kB 2.8MB/s eta 0:00:01\r",
      "\u001b[K     |████████████████▉               | 215kB 2.8MB/s eta 0:00:01\r",
      "\u001b[K     |█████████████████▋              | 225kB 2.8MB/s eta 0:00:01\r",
      "\u001b[K     |██████████████████▍             | 235kB 2.8MB/s eta 0:00:01\r",
      "\u001b[K     |███████████████████▏            | 245kB 2.8MB/s eta 0:00:01\r",
      "\u001b[K     |████████████████████            | 256kB 2.8MB/s eta 0:00:01\r",
      "\u001b[K     |████████████████████▊           | 266kB 2.8MB/s eta 0:00:01\r",
      "\u001b[K     |█████████████████████▋          | 276kB 2.8MB/s eta 0:00:01\r",
      "\u001b[K     |██████████████████████▍         | 286kB 2.8MB/s eta 0:00:01\r",
      "\u001b[K     |███████████████████████▏        | 296kB 2.8MB/s eta 0:00:01\r",
      "\u001b[K     |████████████████████████        | 307kB 2.8MB/s eta 0:00:01\r",
      "\u001b[K     |████████████████████████▊       | 317kB 2.8MB/s eta 0:00:01\r",
      "\u001b[K     |█████████████████████████▋      | 327kB 2.8MB/s eta 0:00:01\r",
      "\u001b[K     |██████████████████████████▍     | 337kB 2.8MB/s eta 0:00:01\r",
      "\u001b[K     |███████████████████████████▏    | 348kB 2.8MB/s eta 0:00:01\r",
      "\u001b[K     |████████████████████████████    | 358kB 2.8MB/s eta 0:00:01\r",
      "\u001b[K     |████████████████████████████▊   | 368kB 2.8MB/s eta 0:00:01\r",
      "\u001b[K     |█████████████████████████████▋  | 378kB 2.8MB/s eta 0:00:01\r",
      "\u001b[K     |██████████████████████████████▍ | 389kB 2.8MB/s eta 0:00:01\r",
      "\u001b[K     |███████████████████████████████▏| 399kB 2.8MB/s eta 0:00:01\r",
      "\u001b[K     |████████████████████████████████| 409kB 2.8MB/s eta 0:00:01\r",
      "\u001b[K     |████████████████████████████████| 419kB 2.8MB/s \n",
      "\u001b[?25hInstalling collected packages: backtrader\n",
      "Successfully installed backtrader-1.9.76.123\n"
     ]
    }
   ],
   "source": [
    "!pip install backtrader"
   ]
  },
  {
   "cell_type": "code",
   "execution_count": 143,
   "metadata": {
    "ExecuteTime": {
     "end_time": "2020-08-13T15:28:40.325295Z",
     "start_time": "2020-08-13T15:28:40.306540Z"
    },
    "colab": {},
    "colab_type": "code",
    "executionInfo": {
     "elapsed": 1170,
     "status": "ok",
     "timestamp": 1597326805619,
     "user": {
      "displayName": "Titus Ndondo",
      "photoUrl": "",
      "userId": "06857126821348095945"
     },
     "user_tz": -120
    },
    "id": "5dlNjTrmC5MH",
    "scrolled": true
   },
   "outputs": [],
   "source": [
    "import backtrader as bt\n",
    "import backtrader.indicators as btind\n",
    "import datetime\n",
    "import pandas as pd\n",
    "import pandas_datareader.data as web\n",
    "from pandas import Series, DataFrame\n",
    "import random\n",
    "from copy import deepcopy\n",
    "import matplotlib.pyplot as plt\n",
    "\n",
    "%matplotlib inline"
   ]
  },
  {
   "cell_type": "code",
   "execution_count": 4,
   "metadata": {
    "ExecuteTime": {
     "end_time": "2020-08-13T14:02:48.361514Z",
     "start_time": "2020-08-13T14:02:48.340570Z"
    },
    "colab": {},
    "colab_type": "code",
    "executionInfo": {
     "elapsed": 1564,
     "status": "ok",
     "timestamp": 1597326017268,
     "user": {
      "displayName": "Titus Ndondo",
      "photoUrl": "",
      "userId": "06857126821348095945"
     },
     "user_tz": -120
    },
    "id": "cIaUplM1C5nS"
   },
   "outputs": [],
   "source": [
    "class SMAC(bt.Strategy):\n",
    "    \"\"\"A simple moving average crossover strategy; crossing of a fast and slow moving average generates buy/sell\n",
    "       signals\"\"\"\n",
    "    params = {\"fast\": 20, \"slow\": 50,                  # The windows for both fast and slow moving averages\n",
    "              \"optim\": False, \"optim_fs\": (20, 50)}    # Used for optimization; equivalent of fast and slow, but a tuple\n",
    "                                                       # The first number in the tuple is the fast MA's window, the\n",
    "                                                       # second the slow MA's window\n",
    " \n",
    "    def __init__(self):\n",
    "        \"\"\"Initialize the strategy\"\"\"\n",
    " \n",
    "        self.fastma = dict()\n",
    "        self.slowma = dict()\n",
    "        self.regime = dict()\n",
    " \n",
    "        self._addobserver(True, bt.observers.BuySell)    # CAUTION: Abuse of the method, I will change this in future code (see: https://community.backtrader.com/topic/473/plotting-just-the-account-s-value/4)\n",
    " \n",
    "        if self.params.optim:    # Use a tuple during optimization\n",
    "            self.params.fast, self.params.slow = self.params.optim_fs    # fast and slow replaced by tuple's contents\n",
    " \n",
    "        if self.params.fast > self.params.slow:\n",
    "            raise ValueError(\n",
    "                \"A SMAC strategy cannot have the fast moving average's window be \" + \\\n",
    "                 \"greater than the slow moving average window.\")\n",
    " \n",
    "        for d in self.getdatanames():\n",
    " \n",
    "            # The moving averages\n",
    "            self.fastma[d] = btind.SimpleMovingAverage(self.getdatabyname(d),      # The symbol for the moving average\n",
    "                                                       period=self.params.fast,    # Fast moving average\n",
    "                                                       plotname=\"FastMA: \" + d)\n",
    "            self.slowma[d] = btind.SimpleMovingAverage(self.getdatabyname(d),      # The symbol for the moving average\n",
    "                                                       period=self.params.slow,    # Slow moving average\n",
    "                                                       plotname=\"SlowMA: \" + d)\n",
    " \n",
    "            # Get the regime\n",
    "            self.regime[d] = self.fastma[d] - self.slowma[d]    # Positive when bullish\n",
    " \n",
    "    def next(self):\n",
    "        \"\"\"Define what will be done in a single step, including creating and closing trades\"\"\"\n",
    "        for d in self.getdatanames():    # Looping through all symbols\n",
    "            pos = self.getpositionbyname(d).size or 0\n",
    "            if pos == 0:    # Are we out of the market?\n",
    "                # Consider the possibility of entrance\n",
    "                # Notice the indexing; [0] always mens the present bar, and [-1] the bar immediately preceding\n",
    "                # Thus, the condition below translates to: \"If today the regime is bullish (greater than\n",
    "                # 0) and yesterday the regime was not bullish\"\n",
    "                if self.regime[d][0] > 0 and self.regime[d][-1] <= 0:    # A buy signal\n",
    "                    self.buy(data=self.getdatabyname(d))\n",
    " \n",
    "            else:    # We have an open position\n",
    "                if self.regime[d][0] <= 0 and self.regime[d][-1] > 0:    # A sell signal\n",
    "                    self.sell(data=self.getdatabyname(d))"
   ]
  },
  {
   "cell_type": "code",
   "execution_count": 5,
   "metadata": {
    "ExecuteTime": {
     "end_time": "2020-08-13T14:02:49.486801Z",
     "start_time": "2020-08-13T14:02:49.471838Z"
    },
    "colab": {},
    "colab_type": "code",
    "executionInfo": {
     "elapsed": 1640,
     "status": "ok",
     "timestamp": 1597326047684,
     "user": {
      "displayName": "Titus Ndondo",
      "photoUrl": "",
      "userId": "06857126821348095945"
     },
     "user_tz": -120
    },
    "id": "HCtXcNtXDLxp"
   },
   "outputs": [],
   "source": [
    "class PropSizer(bt.Sizer):\n",
    "    \"\"\"A position sizer that will buy as many stocks as necessary for a certain proportion of the portfolio\n",
    "       to be committed to the position, while allowing stocks to be bought in batches (say, 100)\"\"\"\n",
    "    params = {\"prop\": 0.1, \"batch\": 100}\n",
    " \n",
    "    def _getsizing(self, comminfo, cash, data, isbuy):\n",
    "        \"\"\"Returns the proper sizing\"\"\"\n",
    " \n",
    "        if isbuy:    # Buying\n",
    "            target = self.broker.getvalue() * self.params.prop    # Ideal total value of the position\n",
    "            price = data.close[0]\n",
    "            shares_ideal = target / price    # How many shares are needed to get target\n",
    "            batches = int(shares_ideal / self.params.batch)    # How many batches is this trade?\n",
    "            shares = batches * self.params.batch    # The actual number of shares bought\n",
    " \n",
    "            if shares * price > cash:\n",
    "                return 0    # Not enough money for this trade\n",
    "            else:\n",
    "                return shares\n",
    " \n",
    "        else:    # Selling\n",
    "            return self.broker.getposition(data).size    # Clear the position\n"
   ]
  },
  {
   "cell_type": "code",
   "execution_count": 24,
   "metadata": {
    "ExecuteTime": {
     "end_time": "2020-08-13T14:09:00.262868Z",
     "start_time": "2020-08-13T14:09:00.257878Z"
    },
    "colab": {},
    "colab_type": "code",
    "executionInfo": {
     "elapsed": 825,
     "status": "ok",
     "timestamp": 1597326470249,
     "user": {
      "displayName": "Titus Ndondo",
      "photoUrl": "",
      "userId": "06857126821348095945"
     },
     "user_tz": -120
    },
    "id": "dvgZHQKHDTMZ"
   },
   "outputs": [],
   "source": [
    "cerebro = bt.Cerebro(stdstats=False)    # I don't want the default plot objects\n"
   ]
  },
  {
   "cell_type": "code",
   "execution_count": 25,
   "metadata": {
    "ExecuteTime": {
     "end_time": "2020-08-13T14:09:02.772333Z",
     "start_time": "2020-08-13T14:09:02.767350Z"
    },
    "colab": {},
    "colab_type": "code",
    "executionInfo": {
     "elapsed": 1915,
     "status": "ok",
     "timestamp": 1597326473663,
     "user": {
      "displayName": "Titus Ndondo",
      "photoUrl": "",
      "userId": "06857126821348095945"
     },
     "user_tz": -120
    },
    "id": "vHlCXbK-DWJh"
   },
   "outputs": [],
   "source": [
    "cerebro.broker.set_cash(1000000)    # Set our starting cash to $1,000,000\n",
    "cerebro.broker.setcommission(0.02)"
   ]
  },
  {
   "cell_type": "code",
   "execution_count": 26,
   "metadata": {
    "ExecuteTime": {
     "end_time": "2020-08-13T14:09:04.107989Z",
     "start_time": "2020-08-13T14:09:04.102003Z"
    },
    "colab": {},
    "colab_type": "code",
    "executionInfo": {
     "elapsed": 1414,
     "status": "ok",
     "timestamp": 1597326474396,
     "user": {
      "displayName": "Titus Ndondo",
      "photoUrl": "",
      "userId": "06857126821348095945"
     },
     "user_tz": -120
    },
    "id": "qINa4PoODpVF"
   },
   "outputs": [],
   "source": [
    "class PandasData(bt.feed.DataBase):\n",
    "    params = (\n",
    "        ('datetime', None),\n",
    "        ('open', -1),\n",
    "        ('high', -1),\n",
    "        ('low', -1),\n",
    "        ('close', -1),\n",
    "        ('volume', -1),\n",
    "        ('openinterest', None),\n",
    "    )"
   ]
  },
  {
   "cell_type": "code",
   "execution_count": 29,
   "metadata": {
    "ExecuteTime": {
     "end_time": "2020-08-13T14:10:32.306017Z",
     "start_time": "2020-08-13T14:10:18.167963Z"
    },
    "colab": {},
    "colab_type": "code",
    "executionInfo": {
     "elapsed": 7390,
     "status": "ok",
     "timestamp": 1597326505001,
     "user": {
      "displayName": "Titus Ndondo",
      "photoUrl": "",
      "userId": "06857126821348095945"
     },
     "user_tz": -120
    },
    "id": "K0vNSjWXDYt2"
   },
   "outputs": [],
   "source": [
    "start = datetime.datetime(2010, 1, 1)\n",
    "end = datetime.datetime(2016, 10, 31)\n",
    "is_first = True\n",
    "# Not the same set of symbols as in other blog posts\n",
    "symbols = [\"AAPL\", \"GOOG\", \"MSFT\", \"AMZN\", \"SNY\", \"NTDOY\", \"IBM\", \"HPQ\", \"QCOM\", \"NVDA\"]\n",
    "plot_symbols = [\"AAPL\", \"GOOG\", \"NVDA\"]\n",
    "#plot_symbols = []\n",
    "for s in symbols:\n",
    "\n",
    "    data = web.DataReader(\n",
    "            name = s,\n",
    "            data_source = 'yahoo',\n",
    "            start = '2010-01-01',\n",
    "            end = '2016-10-31'  \n",
    "        ).rename(\n",
    "            columns = {\n",
    "                'Open': 'open',\n",
    "                'High': 'high',\n",
    "                'Low': 'low',\n",
    "                'Close': 'close',\n",
    "                'Volume': 'volume'\n",
    "            }\n",
    "            \n",
    "        )\n",
    "\n",
    "\n",
    "    data = bt.feeds.PandasData(dataname = data, fromdate = start, todate = end)\n",
    "    if s in plot_symbols:\n",
    "        if is_first:\n",
    "            data_main_plot = data\n",
    "            is_first = False\n",
    "        else:\n",
    "            data.plotinfo.plotmaster = data_main_plot\n",
    "    else:\n",
    "        data.plotinfo.plot = False\n",
    "    cerebro.adddata(data, name = s)    # Give the data to cerebro"
   ]
  },
  {
   "cell_type": "code",
   "execution_count": 31,
   "metadata": {
    "ExecuteTime": {
     "end_time": "2020-08-13T14:10:48.073871Z",
     "start_time": "2020-08-13T14:10:48.063897Z"
    }
   },
   "outputs": [
    {
     "data": {
      "text/plain": [
       "OrderedDict([('AAPL',\n",
       "              <backtrader.feeds.pandafeed.PandasData at 0x1f808b45dc8>),\n",
       "             ('GOOG',\n",
       "              <backtrader.feeds.pandafeed.PandasData at 0x1f808981cc8>),\n",
       "             ('MSFT',\n",
       "              <backtrader.feeds.pandafeed.PandasData at 0x1f808a394c8>),\n",
       "             ('AMZN',\n",
       "              <backtrader.feeds.pandafeed.PandasData at 0x1f80887fb08>),\n",
       "             ('SNY', <backtrader.feeds.pandafeed.PandasData at 0x1f808b53ac8>),\n",
       "             ('NTDOY',\n",
       "              <backtrader.feeds.pandafeed.PandasData at 0x1f8089c4708>),\n",
       "             ('IBM', <backtrader.feeds.pandafeed.PandasData at 0x1f8088882c8>),\n",
       "             ('HPQ', <backtrader.feeds.pandafeed.PandasData at 0x1f80891b0c8>),\n",
       "             ('QCOM',\n",
       "              <backtrader.feeds.pandafeed.PandasData at 0x1f8080d14c8>),\n",
       "             ('NVDA',\n",
       "              <backtrader.feeds.pandafeed.PandasData at 0x1f808976988>)])"
      ]
     },
     "execution_count": 31,
     "metadata": {},
     "output_type": "execute_result"
    }
   ],
   "source": [
    "cerebro.datasbyname"
   ]
  },
  {
   "cell_type": "code",
   "execution_count": 32,
   "metadata": {
    "ExecuteTime": {
     "end_time": "2020-08-13T14:10:55.515064Z",
     "start_time": "2020-08-13T14:10:55.503094Z"
    },
    "colab": {},
    "colab_type": "code",
    "executionInfo": {
     "elapsed": 2223,
     "status": "ok",
     "timestamp": 1597326658055,
     "user": {
      "displayName": "Titus Ndondo",
      "photoUrl": "",
      "userId": "06857126821348095945"
     },
     "user_tz": -120
    },
    "id": "3EOrOiqeFntj"
   },
   "outputs": [],
   "source": [
    "class AcctValue(bt.Observer):\n",
    "    alias = ('Value',)\n",
    "    lines = ('value',)\n",
    " \n",
    "    plotinfo = {\"plot\": True, \"subplot\": True}\n",
    " \n",
    "    def next(self):\n",
    "        self.lines.value[0] = self._owner.broker.getvalue()    # Get today's account value (cash + stocks)\n"
   ]
  },
  {
   "cell_type": "code",
   "execution_count": 33,
   "metadata": {
    "ExecuteTime": {
     "end_time": "2020-08-13T14:10:56.755203Z",
     "start_time": "2020-08-13T14:10:56.749215Z"
    },
    "colab": {},
    "colab_type": "code",
    "executionInfo": {
     "elapsed": 1147,
     "status": "ok",
     "timestamp": 1597326674150,
     "user": {
      "displayName": "Titus Ndondo",
      "photoUrl": "",
      "userId": "06857126821348095945"
     },
     "user_tz": -120
    },
    "id": "3lJYia2UFoDt"
   },
   "outputs": [],
   "source": [
    "cerebro.addobserver(AcctValue)\n",
    "cerebro.addstrategy(SMAC)\n",
    "cerebro.addsizer(PropSizer)"
   ]
  },
  {
   "cell_type": "code",
   "execution_count": 34,
   "metadata": {
    "ExecuteTime": {
     "end_time": "2020-08-13T14:10:58.001817Z",
     "start_time": "2020-08-13T14:10:57.994836Z"
    },
    "colab": {
     "base_uri": "https://localhost:8080/",
     "height": 34
    },
    "colab_type": "code",
    "executionInfo": {
     "elapsed": 1335,
     "status": "ok",
     "timestamp": 1597326691435,
     "user": {
      "displayName": "Titus Ndondo",
      "photoUrl": "",
      "userId": "06857126821348095945"
     },
     "user_tz": -120
    },
    "id": "Ob7HiyhgFsAF",
    "outputId": "a3010833-9ea3-423c-e869-a27454769aad"
   },
   "outputs": [
    {
     "data": {
      "text/plain": [
       "1000000"
      ]
     },
     "execution_count": 34,
     "metadata": {},
     "output_type": "execute_result"
    }
   ],
   "source": [
    "cerebro.broker.getvalue()"
   ]
  },
  {
   "cell_type": "code",
   "execution_count": 35,
   "metadata": {
    "ExecuteTime": {
     "end_time": "2020-08-13T14:11:05.313408Z",
     "start_time": "2020-08-13T14:10:59.010264Z"
    },
    "colab": {
     "base_uri": "https://localhost:8080/",
     "height": 70
    },
    "colab_type": "code",
    "executionInfo": {
     "elapsed": 3666,
     "status": "ok",
     "timestamp": 1597326703562,
     "user": {
      "displayName": "Titus Ndondo",
      "photoUrl": "",
      "userId": "06857126821348095945"
     },
     "user_tz": -120
    },
    "id": "AtfOxREvFwbn",
    "outputId": "029c1d14-294a-4d53-effb-3444ed85526d"
   },
   "outputs": [
    {
     "name": "stdout",
     "output_type": "stream",
     "text": [
      "Wall time: 6.29 s\n"
     ]
    },
    {
     "data": {
      "text/plain": [
       "[<__main__.SMAC at 0x1f8011890c8>]"
      ]
     },
     "execution_count": 35,
     "metadata": {},
     "output_type": "execute_result"
    }
   ],
   "source": [
    "%time cerebro.run()"
   ]
  },
  {
   "cell_type": "code",
   "execution_count": 137,
   "metadata": {
    "ExecuteTime": {
     "end_time": "2020-08-13T15:20:15.622359Z",
     "start_time": "2020-08-13T15:20:11.029113Z"
    },
    "colab": {
     "base_uri": "https://localhost:8080/",
     "height": 313
    },
    "colab_type": "code",
    "executionInfo": {
     "elapsed": 3628,
     "status": "ok",
     "timestamp": 1597326857099,
     "user": {
      "displayName": "Titus Ndondo",
      "photoUrl": "",
      "userId": "06857126821348095945"
     },
     "user_tz": -120
    },
    "id": "6IuOwh0nFy0t",
    "outputId": "0997a924-7f01-4ad9-859f-36392060d9b2"
   },
   "outputs": [
    {
     "data": {
      "application/javascript": [
       "/* Put everything inside the global mpl namespace */\n",
       "window.mpl = {};\n",
       "\n",
       "\n",
       "mpl.get_websocket_type = function() {\n",
       "    if (typeof(WebSocket) !== 'undefined') {\n",
       "        return WebSocket;\n",
       "    } else if (typeof(MozWebSocket) !== 'undefined') {\n",
       "        return MozWebSocket;\n",
       "    } else {\n",
       "        alert('Your browser does not have WebSocket support. ' +\n",
       "              'Please try Chrome, Safari or Firefox ≥ 6. ' +\n",
       "              'Firefox 4 and 5 are also supported but you ' +\n",
       "              'have to enable WebSockets in about:config.');\n",
       "    };\n",
       "}\n",
       "\n",
       "mpl.figure = function(figure_id, websocket, ondownload, parent_element) {\n",
       "    this.id = figure_id;\n",
       "\n",
       "    this.ws = websocket;\n",
       "\n",
       "    this.supports_binary = (this.ws.binaryType != undefined);\n",
       "\n",
       "    if (!this.supports_binary) {\n",
       "        var warnings = document.getElementById(\"mpl-warnings\");\n",
       "        if (warnings) {\n",
       "            warnings.style.display = 'block';\n",
       "            warnings.textContent = (\n",
       "                \"This browser does not support binary websocket messages. \" +\n",
       "                    \"Performance may be slow.\");\n",
       "        }\n",
       "    }\n",
       "\n",
       "    this.imageObj = new Image();\n",
       "\n",
       "    this.context = undefined;\n",
       "    this.message = undefined;\n",
       "    this.canvas = undefined;\n",
       "    this.rubberband_canvas = undefined;\n",
       "    this.rubberband_context = undefined;\n",
       "    this.format_dropdown = undefined;\n",
       "\n",
       "    this.image_mode = 'full';\n",
       "\n",
       "    this.root = $('<div/>');\n",
       "    this._root_extra_style(this.root)\n",
       "    this.root.attr('style', 'display: inline-block');\n",
       "\n",
       "    $(parent_element).append(this.root);\n",
       "\n",
       "    this._init_header(this);\n",
       "    this._init_canvas(this);\n",
       "    this._init_toolbar(this);\n",
       "\n",
       "    var fig = this;\n",
       "\n",
       "    this.waiting = false;\n",
       "\n",
       "    this.ws.onopen =  function () {\n",
       "            fig.send_message(\"supports_binary\", {value: fig.supports_binary});\n",
       "            fig.send_message(\"send_image_mode\", {});\n",
       "            if (mpl.ratio != 1) {\n",
       "                fig.send_message(\"set_dpi_ratio\", {'dpi_ratio': mpl.ratio});\n",
       "            }\n",
       "            fig.send_message(\"refresh\", {});\n",
       "        }\n",
       "\n",
       "    this.imageObj.onload = function() {\n",
       "            if (fig.image_mode == 'full') {\n",
       "                // Full images could contain transparency (where diff images\n",
       "                // almost always do), so we need to clear the canvas so that\n",
       "                // there is no ghosting.\n",
       "                fig.context.clearRect(0, 0, fig.canvas.width, fig.canvas.height);\n",
       "            }\n",
       "            fig.context.drawImage(fig.imageObj, 0, 0);\n",
       "        };\n",
       "\n",
       "    this.imageObj.onunload = function() {\n",
       "        fig.ws.close();\n",
       "    }\n",
       "\n",
       "    this.ws.onmessage = this._make_on_message_function(this);\n",
       "\n",
       "    this.ondownload = ondownload;\n",
       "}\n",
       "\n",
       "mpl.figure.prototype._init_header = function() {\n",
       "    var titlebar = $(\n",
       "        '<div class=\"ui-dialog-titlebar ui-widget-header ui-corner-all ' +\n",
       "        'ui-helper-clearfix\"/>');\n",
       "    var titletext = $(\n",
       "        '<div class=\"ui-dialog-title\" style=\"width: 100%; ' +\n",
       "        'text-align: center; padding: 3px;\"/>');\n",
       "    titlebar.append(titletext)\n",
       "    this.root.append(titlebar);\n",
       "    this.header = titletext[0];\n",
       "}\n",
       "\n",
       "\n",
       "\n",
       "mpl.figure.prototype._canvas_extra_style = function(canvas_div) {\n",
       "\n",
       "}\n",
       "\n",
       "\n",
       "mpl.figure.prototype._root_extra_style = function(canvas_div) {\n",
       "\n",
       "}\n",
       "\n",
       "mpl.figure.prototype._init_canvas = function() {\n",
       "    var fig = this;\n",
       "\n",
       "    var canvas_div = $('<div/>');\n",
       "\n",
       "    canvas_div.attr('style', 'position: relative; clear: both; outline: 0');\n",
       "\n",
       "    function canvas_keyboard_event(event) {\n",
       "        return fig.key_event(event, event['data']);\n",
       "    }\n",
       "\n",
       "    canvas_div.keydown('key_press', canvas_keyboard_event);\n",
       "    canvas_div.keyup('key_release', canvas_keyboard_event);\n",
       "    this.canvas_div = canvas_div\n",
       "    this._canvas_extra_style(canvas_div)\n",
       "    this.root.append(canvas_div);\n",
       "\n",
       "    var canvas = $('<canvas/>');\n",
       "    canvas.addClass('mpl-canvas');\n",
       "    canvas.attr('style', \"left: 0; top: 0; z-index: 0; outline: 0\")\n",
       "\n",
       "    this.canvas = canvas[0];\n",
       "    this.context = canvas[0].getContext(\"2d\");\n",
       "\n",
       "    var backingStore = this.context.backingStorePixelRatio ||\n",
       "\tthis.context.webkitBackingStorePixelRatio ||\n",
       "\tthis.context.mozBackingStorePixelRatio ||\n",
       "\tthis.context.msBackingStorePixelRatio ||\n",
       "\tthis.context.oBackingStorePixelRatio ||\n",
       "\tthis.context.backingStorePixelRatio || 1;\n",
       "\n",
       "    mpl.ratio = (window.devicePixelRatio || 1) / backingStore;\n",
       "\n",
       "    var rubberband = $('<canvas/>');\n",
       "    rubberband.attr('style', \"position: absolute; left: 0; top: 0; z-index: 1;\")\n",
       "\n",
       "    var pass_mouse_events = true;\n",
       "\n",
       "    canvas_div.resizable({\n",
       "        start: function(event, ui) {\n",
       "            pass_mouse_events = false;\n",
       "        },\n",
       "        resize: function(event, ui) {\n",
       "            fig.request_resize(ui.size.width, ui.size.height);\n",
       "        },\n",
       "        stop: function(event, ui) {\n",
       "            pass_mouse_events = true;\n",
       "            fig.request_resize(ui.size.width, ui.size.height);\n",
       "        },\n",
       "    });\n",
       "\n",
       "    function mouse_event_fn(event) {\n",
       "        if (pass_mouse_events)\n",
       "            return fig.mouse_event(event, event['data']);\n",
       "    }\n",
       "\n",
       "    rubberband.mousedown('button_press', mouse_event_fn);\n",
       "    rubberband.mouseup('button_release', mouse_event_fn);\n",
       "    // Throttle sequential mouse events to 1 every 20ms.\n",
       "    rubberband.mousemove('motion_notify', mouse_event_fn);\n",
       "\n",
       "    rubberband.mouseenter('figure_enter', mouse_event_fn);\n",
       "    rubberband.mouseleave('figure_leave', mouse_event_fn);\n",
       "\n",
       "    canvas_div.on(\"wheel\", function (event) {\n",
       "        event = event.originalEvent;\n",
       "        event['data'] = 'scroll'\n",
       "        if (event.deltaY < 0) {\n",
       "            event.step = 1;\n",
       "        } else {\n",
       "            event.step = -1;\n",
       "        }\n",
       "        mouse_event_fn(event);\n",
       "    });\n",
       "\n",
       "    canvas_div.append(canvas);\n",
       "    canvas_div.append(rubberband);\n",
       "\n",
       "    this.rubberband = rubberband;\n",
       "    this.rubberband_canvas = rubberband[0];\n",
       "    this.rubberband_context = rubberband[0].getContext(\"2d\");\n",
       "    this.rubberband_context.strokeStyle = \"#000000\";\n",
       "\n",
       "    this._resize_canvas = function(width, height) {\n",
       "        // Keep the size of the canvas, canvas container, and rubber band\n",
       "        // canvas in synch.\n",
       "        canvas_div.css('width', width)\n",
       "        canvas_div.css('height', height)\n",
       "\n",
       "        canvas.attr('width', width * mpl.ratio);\n",
       "        canvas.attr('height', height * mpl.ratio);\n",
       "        canvas.attr('style', 'width: ' + width + 'px; height: ' + height + 'px;');\n",
       "\n",
       "        rubberband.attr('width', width);\n",
       "        rubberband.attr('height', height);\n",
       "    }\n",
       "\n",
       "    // Set the figure to an initial 600x600px, this will subsequently be updated\n",
       "    // upon first draw.\n",
       "    this._resize_canvas(600, 600);\n",
       "\n",
       "    // Disable right mouse context menu.\n",
       "    $(this.rubberband_canvas).bind(\"contextmenu\",function(e){\n",
       "        return false;\n",
       "    });\n",
       "\n",
       "    function set_focus () {\n",
       "        canvas.focus();\n",
       "        canvas_div.focus();\n",
       "    }\n",
       "\n",
       "    window.setTimeout(set_focus, 100);\n",
       "}\n",
       "\n",
       "mpl.figure.prototype._init_toolbar = function() {\n",
       "    var fig = this;\n",
       "\n",
       "    var nav_element = $('<div/>');\n",
       "    nav_element.attr('style', 'width: 100%');\n",
       "    this.root.append(nav_element);\n",
       "\n",
       "    // Define a callback function for later on.\n",
       "    function toolbar_event(event) {\n",
       "        return fig.toolbar_button_onclick(event['data']);\n",
       "    }\n",
       "    function toolbar_mouse_event(event) {\n",
       "        return fig.toolbar_button_onmouseover(event['data']);\n",
       "    }\n",
       "\n",
       "    for(var toolbar_ind in mpl.toolbar_items) {\n",
       "        var name = mpl.toolbar_items[toolbar_ind][0];\n",
       "        var tooltip = mpl.toolbar_items[toolbar_ind][1];\n",
       "        var image = mpl.toolbar_items[toolbar_ind][2];\n",
       "        var method_name = mpl.toolbar_items[toolbar_ind][3];\n",
       "\n",
       "        if (!name) {\n",
       "            // put a spacer in here.\n",
       "            continue;\n",
       "        }\n",
       "        var button = $('<button/>');\n",
       "        button.addClass('ui-button ui-widget ui-state-default ui-corner-all ' +\n",
       "                        'ui-button-icon-only');\n",
       "        button.attr('role', 'button');\n",
       "        button.attr('aria-disabled', 'false');\n",
       "        button.click(method_name, toolbar_event);\n",
       "        button.mouseover(tooltip, toolbar_mouse_event);\n",
       "\n",
       "        var icon_img = $('<span/>');\n",
       "        icon_img.addClass('ui-button-icon-primary ui-icon');\n",
       "        icon_img.addClass(image);\n",
       "        icon_img.addClass('ui-corner-all');\n",
       "\n",
       "        var tooltip_span = $('<span/>');\n",
       "        tooltip_span.addClass('ui-button-text');\n",
       "        tooltip_span.html(tooltip);\n",
       "\n",
       "        button.append(icon_img);\n",
       "        button.append(tooltip_span);\n",
       "\n",
       "        nav_element.append(button);\n",
       "    }\n",
       "\n",
       "    var fmt_picker_span = $('<span/>');\n",
       "\n",
       "    var fmt_picker = $('<select/>');\n",
       "    fmt_picker.addClass('mpl-toolbar-option ui-widget ui-widget-content');\n",
       "    fmt_picker_span.append(fmt_picker);\n",
       "    nav_element.append(fmt_picker_span);\n",
       "    this.format_dropdown = fmt_picker[0];\n",
       "\n",
       "    for (var ind in mpl.extensions) {\n",
       "        var fmt = mpl.extensions[ind];\n",
       "        var option = $(\n",
       "            '<option/>', {selected: fmt === mpl.default_extension}).html(fmt);\n",
       "        fmt_picker.append(option);\n",
       "    }\n",
       "\n",
       "    // Add hover states to the ui-buttons\n",
       "    $( \".ui-button\" ).hover(\n",
       "        function() { $(this).addClass(\"ui-state-hover\");},\n",
       "        function() { $(this).removeClass(\"ui-state-hover\");}\n",
       "    );\n",
       "\n",
       "    var status_bar = $('<span class=\"mpl-message\"/>');\n",
       "    nav_element.append(status_bar);\n",
       "    this.message = status_bar[0];\n",
       "}\n",
       "\n",
       "mpl.figure.prototype.request_resize = function(x_pixels, y_pixels) {\n",
       "    // Request matplotlib to resize the figure. Matplotlib will then trigger a resize in the client,\n",
       "    // which will in turn request a refresh of the image.\n",
       "    this.send_message('resize', {'width': x_pixels, 'height': y_pixels});\n",
       "}\n",
       "\n",
       "mpl.figure.prototype.send_message = function(type, properties) {\n",
       "    properties['type'] = type;\n",
       "    properties['figure_id'] = this.id;\n",
       "    this.ws.send(JSON.stringify(properties));\n",
       "}\n",
       "\n",
       "mpl.figure.prototype.send_draw_message = function() {\n",
       "    if (!this.waiting) {\n",
       "        this.waiting = true;\n",
       "        this.ws.send(JSON.stringify({type: \"draw\", figure_id: this.id}));\n",
       "    }\n",
       "}\n",
       "\n",
       "\n",
       "mpl.figure.prototype.handle_save = function(fig, msg) {\n",
       "    var format_dropdown = fig.format_dropdown;\n",
       "    var format = format_dropdown.options[format_dropdown.selectedIndex].value;\n",
       "    fig.ondownload(fig, format);\n",
       "}\n",
       "\n",
       "\n",
       "mpl.figure.prototype.handle_resize = function(fig, msg) {\n",
       "    var size = msg['size'];\n",
       "    if (size[0] != fig.canvas.width || size[1] != fig.canvas.height) {\n",
       "        fig._resize_canvas(size[0], size[1]);\n",
       "        fig.send_message(\"refresh\", {});\n",
       "    };\n",
       "}\n",
       "\n",
       "mpl.figure.prototype.handle_rubberband = function(fig, msg) {\n",
       "    var x0 = msg['x0'] / mpl.ratio;\n",
       "    var y0 = (fig.canvas.height - msg['y0']) / mpl.ratio;\n",
       "    var x1 = msg['x1'] / mpl.ratio;\n",
       "    var y1 = (fig.canvas.height - msg['y1']) / mpl.ratio;\n",
       "    x0 = Math.floor(x0) + 0.5;\n",
       "    y0 = Math.floor(y0) + 0.5;\n",
       "    x1 = Math.floor(x1) + 0.5;\n",
       "    y1 = Math.floor(y1) + 0.5;\n",
       "    var min_x = Math.min(x0, x1);\n",
       "    var min_y = Math.min(y0, y1);\n",
       "    var width = Math.abs(x1 - x0);\n",
       "    var height = Math.abs(y1 - y0);\n",
       "\n",
       "    fig.rubberband_context.clearRect(\n",
       "        0, 0, fig.canvas.width / mpl.ratio, fig.canvas.height / mpl.ratio);\n",
       "\n",
       "    fig.rubberband_context.strokeRect(min_x, min_y, width, height);\n",
       "}\n",
       "\n",
       "mpl.figure.prototype.handle_figure_label = function(fig, msg) {\n",
       "    // Updates the figure title.\n",
       "    fig.header.textContent = msg['label'];\n",
       "}\n",
       "\n",
       "mpl.figure.prototype.handle_cursor = function(fig, msg) {\n",
       "    var cursor = msg['cursor'];\n",
       "    switch(cursor)\n",
       "    {\n",
       "    case 0:\n",
       "        cursor = 'pointer';\n",
       "        break;\n",
       "    case 1:\n",
       "        cursor = 'default';\n",
       "        break;\n",
       "    case 2:\n",
       "        cursor = 'crosshair';\n",
       "        break;\n",
       "    case 3:\n",
       "        cursor = 'move';\n",
       "        break;\n",
       "    }\n",
       "    fig.rubberband_canvas.style.cursor = cursor;\n",
       "}\n",
       "\n",
       "mpl.figure.prototype.handle_message = function(fig, msg) {\n",
       "    fig.message.textContent = msg['message'];\n",
       "}\n",
       "\n",
       "mpl.figure.prototype.handle_draw = function(fig, msg) {\n",
       "    // Request the server to send over a new figure.\n",
       "    fig.send_draw_message();\n",
       "}\n",
       "\n",
       "mpl.figure.prototype.handle_image_mode = function(fig, msg) {\n",
       "    fig.image_mode = msg['mode'];\n",
       "}\n",
       "\n",
       "mpl.figure.prototype.updated_canvas_event = function() {\n",
       "    // Called whenever the canvas gets updated.\n",
       "    this.send_message(\"ack\", {});\n",
       "}\n",
       "\n",
       "// A function to construct a web socket function for onmessage handling.\n",
       "// Called in the figure constructor.\n",
       "mpl.figure.prototype._make_on_message_function = function(fig) {\n",
       "    return function socket_on_message(evt) {\n",
       "        if (evt.data instanceof Blob) {\n",
       "            /* FIXME: We get \"Resource interpreted as Image but\n",
       "             * transferred with MIME type text/plain:\" errors on\n",
       "             * Chrome.  But how to set the MIME type?  It doesn't seem\n",
       "             * to be part of the websocket stream */\n",
       "            evt.data.type = \"image/png\";\n",
       "\n",
       "            /* Free the memory for the previous frames */\n",
       "            if (fig.imageObj.src) {\n",
       "                (window.URL || window.webkitURL).revokeObjectURL(\n",
       "                    fig.imageObj.src);\n",
       "            }\n",
       "\n",
       "            fig.imageObj.src = (window.URL || window.webkitURL).createObjectURL(\n",
       "                evt.data);\n",
       "            fig.updated_canvas_event();\n",
       "            fig.waiting = false;\n",
       "            return;\n",
       "        }\n",
       "        else if (typeof evt.data === 'string' && evt.data.slice(0, 21) == \"data:image/png;base64\") {\n",
       "            fig.imageObj.src = evt.data;\n",
       "            fig.updated_canvas_event();\n",
       "            fig.waiting = false;\n",
       "            return;\n",
       "        }\n",
       "\n",
       "        var msg = JSON.parse(evt.data);\n",
       "        var msg_type = msg['type'];\n",
       "\n",
       "        // Call the  \"handle_{type}\" callback, which takes\n",
       "        // the figure and JSON message as its only arguments.\n",
       "        try {\n",
       "            var callback = fig[\"handle_\" + msg_type];\n",
       "        } catch (e) {\n",
       "            console.log(\"No handler for the '\" + msg_type + \"' message type: \", msg);\n",
       "            return;\n",
       "        }\n",
       "\n",
       "        if (callback) {\n",
       "            try {\n",
       "                // console.log(\"Handling '\" + msg_type + \"' message: \", msg);\n",
       "                callback(fig, msg);\n",
       "            } catch (e) {\n",
       "                console.log(\"Exception inside the 'handler_\" + msg_type + \"' callback:\", e, e.stack, msg);\n",
       "            }\n",
       "        }\n",
       "    };\n",
       "}\n",
       "\n",
       "// from http://stackoverflow.com/questions/1114465/getting-mouse-location-in-canvas\n",
       "mpl.findpos = function(e) {\n",
       "    //this section is from http://www.quirksmode.org/js/events_properties.html\n",
       "    var targ;\n",
       "    if (!e)\n",
       "        e = window.event;\n",
       "    if (e.target)\n",
       "        targ = e.target;\n",
       "    else if (e.srcElement)\n",
       "        targ = e.srcElement;\n",
       "    if (targ.nodeType == 3) // defeat Safari bug\n",
       "        targ = targ.parentNode;\n",
       "\n",
       "    // jQuery normalizes the pageX and pageY\n",
       "    // pageX,Y are the mouse positions relative to the document\n",
       "    // offset() returns the position of the element relative to the document\n",
       "    var x = e.pageX - $(targ).offset().left;\n",
       "    var y = e.pageY - $(targ).offset().top;\n",
       "\n",
       "    return {\"x\": x, \"y\": y};\n",
       "};\n",
       "\n",
       "/*\n",
       " * return a copy of an object with only non-object keys\n",
       " * we need this to avoid circular references\n",
       " * http://stackoverflow.com/a/24161582/3208463\n",
       " */\n",
       "function simpleKeys (original) {\n",
       "  return Object.keys(original).reduce(function (obj, key) {\n",
       "    if (typeof original[key] !== 'object')\n",
       "        obj[key] = original[key]\n",
       "    return obj;\n",
       "  }, {});\n",
       "}\n",
       "\n",
       "mpl.figure.prototype.mouse_event = function(event, name) {\n",
       "    var canvas_pos = mpl.findpos(event)\n",
       "\n",
       "    if (name === 'button_press')\n",
       "    {\n",
       "        this.canvas.focus();\n",
       "        this.canvas_div.focus();\n",
       "    }\n",
       "\n",
       "    var x = canvas_pos.x * mpl.ratio;\n",
       "    var y = canvas_pos.y * mpl.ratio;\n",
       "\n",
       "    this.send_message(name, {x: x, y: y, button: event.button,\n",
       "                             step: event.step,\n",
       "                             guiEvent: simpleKeys(event)});\n",
       "\n",
       "    /* This prevents the web browser from automatically changing to\n",
       "     * the text insertion cursor when the button is pressed.  We want\n",
       "     * to control all of the cursor setting manually through the\n",
       "     * 'cursor' event from matplotlib */\n",
       "    event.preventDefault();\n",
       "    return false;\n",
       "}\n",
       "\n",
       "mpl.figure.prototype._key_event_extra = function(event, name) {\n",
       "    // Handle any extra behaviour associated with a key event\n",
       "}\n",
       "\n",
       "mpl.figure.prototype.key_event = function(event, name) {\n",
       "\n",
       "    // Prevent repeat events\n",
       "    if (name == 'key_press')\n",
       "    {\n",
       "        if (event.which === this._key)\n",
       "            return;\n",
       "        else\n",
       "            this._key = event.which;\n",
       "    }\n",
       "    if (name == 'key_release')\n",
       "        this._key = null;\n",
       "\n",
       "    var value = '';\n",
       "    if (event.ctrlKey && event.which != 17)\n",
       "        value += \"ctrl+\";\n",
       "    if (event.altKey && event.which != 18)\n",
       "        value += \"alt+\";\n",
       "    if (event.shiftKey && event.which != 16)\n",
       "        value += \"shift+\";\n",
       "\n",
       "    value += 'k';\n",
       "    value += event.which.toString();\n",
       "\n",
       "    this._key_event_extra(event, name);\n",
       "\n",
       "    this.send_message(name, {key: value,\n",
       "                             guiEvent: simpleKeys(event)});\n",
       "    return false;\n",
       "}\n",
       "\n",
       "mpl.figure.prototype.toolbar_button_onclick = function(name) {\n",
       "    if (name == 'download') {\n",
       "        this.handle_save(this, null);\n",
       "    } else {\n",
       "        this.send_message(\"toolbar_button\", {name: name});\n",
       "    }\n",
       "};\n",
       "\n",
       "mpl.figure.prototype.toolbar_button_onmouseover = function(tooltip) {\n",
       "    this.message.textContent = tooltip;\n",
       "};\n",
       "mpl.toolbar_items = [[\"Home\", \"Reset original view\", \"fa fa-home icon-home\", \"home\"], [\"Back\", \"Back to previous view\", \"fa fa-arrow-left icon-arrow-left\", \"back\"], [\"Forward\", \"Forward to next view\", \"fa fa-arrow-right icon-arrow-right\", \"forward\"], [\"\", \"\", \"\", \"\"], [\"Pan\", \"Pan axes with left mouse, zoom with right\", \"fa fa-arrows icon-move\", \"pan\"], [\"Zoom\", \"Zoom to rectangle\", \"fa fa-square-o icon-check-empty\", \"zoom\"], [\"\", \"\", \"\", \"\"], [\"Download\", \"Download plot\", \"fa fa-floppy-o icon-save\", \"download\"]];\n",
       "\n",
       "mpl.extensions = [\"eps\", \"jpeg\", \"pdf\", \"png\", \"ps\", \"raw\", \"svg\", \"tif\"];\n",
       "\n",
       "mpl.default_extension = \"png\";var comm_websocket_adapter = function(comm) {\n",
       "    // Create a \"websocket\"-like object which calls the given IPython comm\n",
       "    // object with the appropriate methods. Currently this is a non binary\n",
       "    // socket, so there is still some room for performance tuning.\n",
       "    var ws = {};\n",
       "\n",
       "    ws.close = function() {\n",
       "        comm.close()\n",
       "    };\n",
       "    ws.send = function(m) {\n",
       "        //console.log('sending', m);\n",
       "        comm.send(m);\n",
       "    };\n",
       "    // Register the callback with on_msg.\n",
       "    comm.on_msg(function(msg) {\n",
       "        //console.log('receiving', msg['content']['data'], msg);\n",
       "        // Pass the mpl event to the overridden (by mpl) onmessage function.\n",
       "        ws.onmessage(msg['content']['data'])\n",
       "    });\n",
       "    return ws;\n",
       "}\n",
       "\n",
       "mpl.mpl_figure_comm = function(comm, msg) {\n",
       "    // This is the function which gets called when the mpl process\n",
       "    // starts-up an IPython Comm through the \"matplotlib\" channel.\n",
       "\n",
       "    var id = msg.content.data.id;\n",
       "    // Get hold of the div created by the display call when the Comm\n",
       "    // socket was opened in Python.\n",
       "    var element = $(\"#\" + id);\n",
       "    var ws_proxy = comm_websocket_adapter(comm)\n",
       "\n",
       "    function ondownload(figure, format) {\n",
       "        window.open(figure.imageObj.src);\n",
       "    }\n",
       "\n",
       "    var fig = new mpl.figure(id, ws_proxy,\n",
       "                           ondownload,\n",
       "                           element.get(0));\n",
       "\n",
       "    // Call onopen now - mpl needs it, as it is assuming we've passed it a real\n",
       "    // web socket which is closed, not our websocket->open comm proxy.\n",
       "    ws_proxy.onopen();\n",
       "\n",
       "    fig.parent_element = element.get(0);\n",
       "    fig.cell_info = mpl.find_output_cell(\"<div id='\" + id + \"'></div>\");\n",
       "    if (!fig.cell_info) {\n",
       "        console.error(\"Failed to find cell for figure\", id, fig);\n",
       "        return;\n",
       "    }\n",
       "\n",
       "    var output_index = fig.cell_info[2]\n",
       "    var cell = fig.cell_info[0];\n",
       "\n",
       "};\n",
       "\n",
       "mpl.figure.prototype.handle_close = function(fig, msg) {\n",
       "    var width = fig.canvas.width/mpl.ratio\n",
       "    fig.root.unbind('remove')\n",
       "\n",
       "    // Update the output cell to use the data from the current canvas.\n",
       "    fig.push_to_output();\n",
       "    var dataURL = fig.canvas.toDataURL();\n",
       "    // Re-enable the keyboard manager in IPython - without this line, in FF,\n",
       "    // the notebook keyboard shortcuts fail.\n",
       "    IPython.keyboard_manager.enable()\n",
       "    $(fig.parent_element).html('<img src=\"' + dataURL + '\" width=\"' + width + '\">');\n",
       "    fig.close_ws(fig, msg);\n",
       "}\n",
       "\n",
       "mpl.figure.prototype.close_ws = function(fig, msg){\n",
       "    fig.send_message('closing', msg);\n",
       "    // fig.ws.close()\n",
       "}\n",
       "\n",
       "mpl.figure.prototype.push_to_output = function(remove_interactive) {\n",
       "    // Turn the data on the canvas into data in the output cell.\n",
       "    var width = this.canvas.width/mpl.ratio\n",
       "    var dataURL = this.canvas.toDataURL();\n",
       "    this.cell_info[1]['text/html'] = '<img src=\"' + dataURL + '\" width=\"' + width + '\">';\n",
       "}\n",
       "\n",
       "mpl.figure.prototype.updated_canvas_event = function() {\n",
       "    // Tell IPython that the notebook contents must change.\n",
       "    IPython.notebook.set_dirty(true);\n",
       "    this.send_message(\"ack\", {});\n",
       "    var fig = this;\n",
       "    // Wait a second, then push the new image to the DOM so\n",
       "    // that it is saved nicely (might be nice to debounce this).\n",
       "    setTimeout(function () { fig.push_to_output() }, 1000);\n",
       "}\n",
       "\n",
       "mpl.figure.prototype._init_toolbar = function() {\n",
       "    var fig = this;\n",
       "\n",
       "    var nav_element = $('<div/>');\n",
       "    nav_element.attr('style', 'width: 100%');\n",
       "    this.root.append(nav_element);\n",
       "\n",
       "    // Define a callback function for later on.\n",
       "    function toolbar_event(event) {\n",
       "        return fig.toolbar_button_onclick(event['data']);\n",
       "    }\n",
       "    function toolbar_mouse_event(event) {\n",
       "        return fig.toolbar_button_onmouseover(event['data']);\n",
       "    }\n",
       "\n",
       "    for(var toolbar_ind in mpl.toolbar_items){\n",
       "        var name = mpl.toolbar_items[toolbar_ind][0];\n",
       "        var tooltip = mpl.toolbar_items[toolbar_ind][1];\n",
       "        var image = mpl.toolbar_items[toolbar_ind][2];\n",
       "        var method_name = mpl.toolbar_items[toolbar_ind][3];\n",
       "\n",
       "        if (!name) { continue; };\n",
       "\n",
       "        var button = $('<button class=\"btn btn-default\" href=\"#\" title=\"' + name + '\"><i class=\"fa ' + image + ' fa-lg\"></i></button>');\n",
       "        button.click(method_name, toolbar_event);\n",
       "        button.mouseover(tooltip, toolbar_mouse_event);\n",
       "        nav_element.append(button);\n",
       "    }\n",
       "\n",
       "    // Add the status bar.\n",
       "    var status_bar = $('<span class=\"mpl-message\" style=\"text-align:right; float: right;\"/>');\n",
       "    nav_element.append(status_bar);\n",
       "    this.message = status_bar[0];\n",
       "\n",
       "    // Add the close button to the window.\n",
       "    var buttongrp = $('<div class=\"btn-group inline pull-right\"></div>');\n",
       "    var button = $('<button class=\"btn btn-mini btn-primary\" href=\"#\" title=\"Stop Interaction\"><i class=\"fa fa-power-off icon-remove icon-large\"></i></button>');\n",
       "    button.click(function (evt) { fig.handle_close(fig, {}); } );\n",
       "    button.mouseover('Stop Interaction', toolbar_mouse_event);\n",
       "    buttongrp.append(button);\n",
       "    var titlebar = this.root.find($('.ui-dialog-titlebar'));\n",
       "    titlebar.prepend(buttongrp);\n",
       "}\n",
       "\n",
       "mpl.figure.prototype._root_extra_style = function(el){\n",
       "    var fig = this\n",
       "    el.on(\"remove\", function(){\n",
       "\tfig.close_ws(fig, {});\n",
       "    });\n",
       "}\n",
       "\n",
       "mpl.figure.prototype._canvas_extra_style = function(el){\n",
       "    // this is important to make the div 'focusable\n",
       "    el.attr('tabindex', 0)\n",
       "    // reach out to IPython and tell the keyboard manager to turn it's self\n",
       "    // off when our div gets focus\n",
       "\n",
       "    // location in version 3\n",
       "    if (IPython.notebook.keyboard_manager) {\n",
       "        IPython.notebook.keyboard_manager.register_events(el);\n",
       "    }\n",
       "    else {\n",
       "        // location in version 2\n",
       "        IPython.keyboard_manager.register_events(el);\n",
       "    }\n",
       "\n",
       "}\n",
       "\n",
       "mpl.figure.prototype._key_event_extra = function(event, name) {\n",
       "    var manager = IPython.notebook.keyboard_manager;\n",
       "    if (!manager)\n",
       "        manager = IPython.keyboard_manager;\n",
       "\n",
       "    // Check for shift+enter\n",
       "    if (event.shiftKey && event.which == 13) {\n",
       "        this.canvas_div.blur();\n",
       "        // select the cell after this one\n",
       "        var index = IPython.notebook.find_cell_index(this.cell_info[0]);\n",
       "        IPython.notebook.select(index + 1);\n",
       "    }\n",
       "}\n",
       "\n",
       "mpl.figure.prototype.handle_save = function(fig, msg) {\n",
       "    fig.ondownload(fig, null);\n",
       "}\n",
       "\n",
       "\n",
       "mpl.find_output_cell = function(html_output) {\n",
       "    // Return the cell and output element which can be found *uniquely* in the notebook.\n",
       "    // Note - this is a bit hacky, but it is done because the \"notebook_saving.Notebook\"\n",
       "    // IPython event is triggered only after the cells have been serialised, which for\n",
       "    // our purposes (turning an active figure into a static one), is too late.\n",
       "    var cells = IPython.notebook.get_cells();\n",
       "    var ncells = cells.length;\n",
       "    for (var i=0; i<ncells; i++) {\n",
       "        var cell = cells[i];\n",
       "        if (cell.cell_type === 'code'){\n",
       "            for (var j=0; j<cell.output_area.outputs.length; j++) {\n",
       "                var data = cell.output_area.outputs[j];\n",
       "                if (data.data) {\n",
       "                    // IPython >= 3 moved mimebundle to data attribute of output\n",
       "                    data = data.data;\n",
       "                }\n",
       "                if (data['text/html'] == html_output) {\n",
       "                    return [cell, data, j];\n",
       "                }\n",
       "            }\n",
       "        }\n",
       "    }\n",
       "}\n",
       "\n",
       "// Register the function which deals with the matplotlib target/channel.\n",
       "// The kernel may be null if the page has been refreshed.\n",
       "if (IPython.notebook.kernel != null) {\n",
       "    IPython.notebook.kernel.comm_manager.register_target('matplotlib', mpl.mpl_figure_comm);\n",
       "}\n"
      ],
      "text/plain": [
       "<IPython.core.display.Javascript object>"
      ]
     },
     "metadata": {},
     "output_type": "display_data"
    },
    {
     "data": {
      "text/html": [
       "<img src=\"data:image/png;base64,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\" width=\"432\">"
      ],
      "text/plain": [
       "<IPython.core.display.HTML object>"
      ]
     },
     "metadata": {},
     "output_type": "display_data"
    },
    {
     "data": {
      "text/plain": [
       "[[<Figure size 432x288 with 4 Axes>]]"
      ]
     },
     "execution_count": 137,
     "metadata": {},
     "output_type": "execute_result"
    },
    {
     "data": {
      "image/png": "[encoded data removed]",
      "text/plain": [
       "<Figure size 432x288 with 4 Axes>"
      ]
     },
     "metadata": {
      "needs_background": "light"
     },
     "output_type": "display_data"
    }
   ],
   "source": [
    "cerebro.plot()"
   ]
  },
  {
   "cell_type": "code",
   "execution_count": 37,
   "metadata": {
    "ExecuteTime": {
     "end_time": "2020-08-13T14:11:19.734603Z",
     "start_time": "2020-08-13T14:11:19.726623Z"
    },
    "colab": {},
    "colab_type": "code",
    "id": "ofoYwiETF2-V"
   },
   "outputs": [
    {
     "data": {
      "text/plain": [
       "740591.4180202484"
      ]
     },
     "execution_count": 37,
     "metadata": {},
     "output_type": "execute_result"
    }
   ],
   "source": [
    "cerebro.broker.getvalue()"
   ]
  },
  {
   "cell_type": "code",
   "execution_count": 41,
   "metadata": {
    "ExecuteTime": {
     "end_time": "2020-08-13T14:18:08.588277Z",
     "start_time": "2020-08-13T14:18:08.574314Z"
    },
    "colab": {},
    "colab_type": "code",
    "id": "W_SIyntXFvwI"
   },
   "outputs": [],
   "source": [
    "class AcctStats(bt.Analyzer):\n",
    "    \"\"\"A simple analyzer that gets the gain in the value of the account; should be self-explanatory\"\"\"\n",
    " \n",
    "    def __init__(self):\n",
    "        self.start_val = self.strategy.broker.get_value()\n",
    "        self.end_val = None\n",
    " \n",
    "    def stop(self):\n",
    "        self.end_val = self.strategy.broker.get_value()\n",
    " \n",
    "    def get_analysis(self):\n",
    "        return {\"start\": self.start_val, \"end\": self.end_val,\n",
    "                \"growth\": self.end_val - self.start_val, \"return\": self.end_val / self.start_val}"
   ]
  },
  {
   "cell_type": "code",
   "execution_count": 42,
   "metadata": {
    "ExecuteTime": {
     "end_time": "2020-08-13T14:19:58.931811Z",
     "start_time": "2020-08-13T14:19:58.914855Z"
    }
   },
   "outputs": [
    {
     "data": {
      "text/plain": [
       "[(20, 25),\n",
       " (15, 20),\n",
       " (50, 100),\n",
       " (45, 80),\n",
       " (30, 60),\n",
       " (50, 60),\n",
       " (15, 50),\n",
       " (20, 100),\n",
       " (30, 70),\n",
       " (10, 100),\n",
       " (5, 80),\n",
       " (10, 80),\n",
       " (25, 70),\n",
       " (35, 40),\n",
       " (15, 70),\n",
       " (35, 50),\n",
       " (20, 40),\n",
       " (30, 100),\n",
       " (5, 60),\n",
       " (15, 80),\n",
       " (40, 90),\n",
       " (25, 60),\n",
       " (20, 80),\n",
       " (10, 40),\n",
       " (30, 90),\n",
       " (10, 70),\n",
       " (10, 50),\n",
       " (15, 60),\n",
       " (15, 100),\n",
       " (20, 50),\n",
       " (20, 90),\n",
       " (30, 40),\n",
       " (10, 25),\n",
       " (50, 90),\n",
       " (5, 20),\n",
       " (15, 40),\n",
       " (10, 20),\n",
       " (40, 50),\n",
       " (30, 30),\n",
       " (30, 50)]"
      ]
     },
     "execution_count": 42,
     "metadata": {},
     "output_type": "execute_result"
    }
   ],
   "source": [
    "# Generate random combinations of fast and slow window lengths to test\n",
    "windowset = set()    # Use a set to avoid duplicates\n",
    "while len(windowset) < 40:\n",
    "    f = random.randint(1, 10) * 5\n",
    "    s = random.randint(1, 10) * 10\n",
    "    if f > s:    # Cannot have the fast moving average have a longer window than the slow, so swap\n",
    "        f, s = s, f\n",
    "    elif f == s:    # Cannot be equal, so do nothing, discarding results\n",
    "        pass\n",
    "    windowset.add((f, s))\n",
    " \n",
    "windows = list(windowset)\n",
    "windows"
   ]
  },
  {
   "cell_type": "code",
   "execution_count": 52,
   "metadata": {
    "ExecuteTime": {
     "end_time": "2020-08-13T14:25:25.719835Z",
     "start_time": "2020-08-13T14:25:25.711857Z"
    }
   },
   "outputs": [],
   "source": [
    "optorebro = bt.Cerebro(maxcpus=1)    # Object for optimization (setting maxcpus to 1\n",
    "                                     # cuz parallelization throws errors; why?)\n",
    "optorebro.broker.set_cash(1000000)\n",
    "optorebro.broker.setcommission(0.02)\n",
    "optorebro.optstrategy(SMAC, optim=True,    # Optimize the strategy (use optim variant of SMAC)...\n",
    "                      optim_fs=windows)    # ... over all possible combinations of windows"
   ]
  },
  {
   "cell_type": "code",
   "execution_count": 53,
   "metadata": {
    "ExecuteTime": {
     "end_time": "2020-08-13T14:25:41.711881Z",
     "start_time": "2020-08-13T14:25:26.327279Z"
    }
   },
   "outputs": [],
   "source": [
    "start = datetime.datetime(2010, 1, 1)\n",
    "end = datetime.datetime(2016, 10, 31)\n",
    "is_first = True\n",
    "# Not the same set of symbols as in other blog posts\n",
    "symbols = [\"AAPL\", \"GOOG\", \"MSFT\", \"AMZN\", \"SNY\", \"NTDOY\", \"IBM\", \"HPQ\", \"QCOM\", \"NVDA\"]\n",
    "plot_symbols = [\"AAPL\", \"GOOG\", \"NVDA\"]\n",
    "#plot_symbols = []\n",
    "for s in symbols:\n",
    "\n",
    "    data = web.DataReader(\n",
    "            name = s,\n",
    "            data_source = 'yahoo',\n",
    "            start = '2010-01-01',\n",
    "            end = '2016-10-31'  \n",
    "        ).rename(\n",
    "            columns = {\n",
    "                'Open': 'open',\n",
    "                'High': 'high',\n",
    "                'Low': 'low',\n",
    "                'Close': 'close',\n",
    "                'Volume': 'volume'\n",
    "            }\n",
    "            \n",
    "        )\n",
    "\n",
    "\n",
    "    data = bt.feeds.PandasData(dataname = data, fromdate = start, todate = end)\n",
    "    if s in plot_symbols:\n",
    "        if is_first:\n",
    "            data_main_plot = data\n",
    "            is_first = False\n",
    "        else:\n",
    "            data.plotinfo.plotmaster = data_main_plot\n",
    "    else:\n",
    "        data.plotinfo.plot = False\n",
    "    optorebro.adddata(data, name = s)    # Give the data to cerebro"
   ]
  },
  {
   "cell_type": "code",
   "execution_count": 54,
   "metadata": {
    "ExecuteTime": {
     "end_time": "2020-08-13T14:25:41.768590Z",
     "start_time": "2020-08-13T14:25:41.754627Z"
    }
   },
   "outputs": [],
   "source": [
    "optorebro.addanalyzer(AcctStats)\n",
    "optorebro.addsizer(PropSizer)"
   ]
  },
  {
   "cell_type": "code",
   "execution_count": 55,
   "metadata": {
    "ExecuteTime": {
     "end_time": "2020-08-13T14:30:05.639675Z",
     "start_time": "2020-08-13T14:25:41.803495Z"
    }
   },
   "outputs": [
    {
     "name": "stdout",
     "output_type": "stream",
     "text": [
      "Wall time: 4min 23s\n"
     ]
    }
   ],
   "source": [
    "%time res = optorebro.run()    # Perform the optimization"
   ]
  },
  {
   "cell_type": "code",
   "execution_count": 61,
   "metadata": {
    "ExecuteTime": {
     "end_time": "2020-08-13T14:37:21.799737Z",
     "start_time": "2020-08-13T14:37:21.780787Z"
    }
   },
   "outputs": [],
   "source": [
    "# Store results of optimization in a DataFrame\n",
    "return_opt = DataFrame({r[0].params.optim_fs: r[0].analyzers.acctstats.get_analysis() for r in res}\n",
    "                      ).T.loc[:, ['end', 'growth', 'return']]"
   ]
  },
  {
   "cell_type": "code",
   "execution_count": 62,
   "metadata": {
    "ExecuteTime": {
     "end_time": "2020-08-13T14:37:23.860296Z",
     "start_time": "2020-08-13T14:37:23.835395Z"
    }
   },
   "outputs": [
    {
     "data": {
      "text/html": [
       "<div>\n",
       "<style scoped>\n",
       "    .dataframe tbody tr th:only-of-type {\n",
       "        vertical-align: middle;\n",
       "    }\n",
       "\n",
       "    .dataframe tbody tr th {\n",
       "        vertical-align: top;\n",
       "    }\n",
       "\n",
       "    .dataframe thead th {\n",
       "        text-align: right;\n",
       "    }\n",
       "</style>\n",
       "<table border=\"1\" class=\"dataframe\">\n",
       "  <thead>\n",
       "    <tr style=\"text-align: right;\">\n",
       "      <th></th>\n",
       "      <th></th>\n",
       "      <th>end</th>\n",
       "      <th>growth</th>\n",
       "      <th>return</th>\n",
       "    </tr>\n",
       "  </thead>\n",
       "  <tbody>\n",
       "    <tr>\n",
       "      <th>20</th>\n",
       "      <th>100</th>\n",
       "      <td>1.161962e+06</td>\n",
       "      <td>161961.513071</td>\n",
       "      <td>1.161962</td>\n",
       "    </tr>\n",
       "    <tr>\n",
       "      <th>30</th>\n",
       "      <th>100</th>\n",
       "      <td>1.146747e+06</td>\n",
       "      <td>146746.859003</td>\n",
       "      <td>1.146747</td>\n",
       "    </tr>\n",
       "    <tr>\n",
       "      <th>15</th>\n",
       "      <th>100</th>\n",
       "      <td>1.145166e+06</td>\n",
       "      <td>145166.024206</td>\n",
       "      <td>1.145166</td>\n",
       "    </tr>\n",
       "    <tr>\n",
       "      <th>50</th>\n",
       "      <th>100</th>\n",
       "      <td>1.143619e+06</td>\n",
       "      <td>143619.028183</td>\n",
       "      <td>1.143619</td>\n",
       "    </tr>\n",
       "    <tr>\n",
       "      <th>20</th>\n",
       "      <th>90</th>\n",
       "      <td>1.141758e+06</td>\n",
       "      <td>141757.596916</td>\n",
       "      <td>1.141758</td>\n",
       "    </tr>\n",
       "    <tr>\n",
       "      <th>30</th>\n",
       "      <th>90</th>\n",
       "      <td>1.106860e+06</td>\n",
       "      <td>106860.493858</td>\n",
       "      <td>1.106860</td>\n",
       "    </tr>\n",
       "    <tr>\n",
       "      <th>20</th>\n",
       "      <th>80</th>\n",
       "      <td>1.102236e+06</td>\n",
       "      <td>102235.540721</td>\n",
       "      <td>1.102236</td>\n",
       "    </tr>\n",
       "    <tr>\n",
       "      <th>15</th>\n",
       "      <th>80</th>\n",
       "      <td>1.086937e+06</td>\n",
       "      <td>86937.209839</td>\n",
       "      <td>1.086937</td>\n",
       "    </tr>\n",
       "    <tr>\n",
       "      <th>50</th>\n",
       "      <th>90</th>\n",
       "      <td>1.082011e+06</td>\n",
       "      <td>82010.783635</td>\n",
       "      <td>1.082011</td>\n",
       "    </tr>\n",
       "    <tr>\n",
       "      <th>30</th>\n",
       "      <th>70</th>\n",
       "      <td>1.042426e+06</td>\n",
       "      <td>42425.663196</td>\n",
       "      <td>1.042426</td>\n",
       "    </tr>\n",
       "    <tr>\n",
       "      <th>25</th>\n",
       "      <th>70</th>\n",
       "      <td>1.037572e+06</td>\n",
       "      <td>37571.761068</td>\n",
       "      <td>1.037572</td>\n",
       "    </tr>\n",
       "    <tr>\n",
       "      <th>40</th>\n",
       "      <th>90</th>\n",
       "      <td>1.035188e+06</td>\n",
       "      <td>35187.635454</td>\n",
       "      <td>1.035188</td>\n",
       "    </tr>\n",
       "    <tr>\n",
       "      <th>15</th>\n",
       "      <th>70</th>\n",
       "      <td>1.010711e+06</td>\n",
       "      <td>10711.332625</td>\n",
       "      <td>1.010711</td>\n",
       "    </tr>\n",
       "    <tr>\n",
       "      <th>45</th>\n",
       "      <th>80</th>\n",
       "      <td>1.006746e+06</td>\n",
       "      <td>6745.693316</td>\n",
       "      <td>1.006746</td>\n",
       "    </tr>\n",
       "    <tr>\n",
       "      <th>30</th>\n",
       "      <th>30</th>\n",
       "      <td>1.000000e+06</td>\n",
       "      <td>0.000000</td>\n",
       "      <td>1.000000</td>\n",
       "    </tr>\n",
       "    <tr>\n",
       "      <th rowspan=\"2\" valign=\"top\">10</th>\n",
       "      <th>80</th>\n",
       "      <td>9.455652e+05</td>\n",
       "      <td>-54434.817352</td>\n",
       "      <td>0.945565</td>\n",
       "    </tr>\n",
       "    <tr>\n",
       "      <th>100</th>\n",
       "      <td>9.380336e+05</td>\n",
       "      <td>-61966.357195</td>\n",
       "      <td>0.938034</td>\n",
       "    </tr>\n",
       "    <tr>\n",
       "      <th>25</th>\n",
       "      <th>60</th>\n",
       "      <td>9.301671e+05</td>\n",
       "      <td>-69832.858199</td>\n",
       "      <td>0.930167</td>\n",
       "    </tr>\n",
       "    <tr>\n",
       "      <th>30</th>\n",
       "      <th>60</th>\n",
       "      <td>9.058807e+05</td>\n",
       "      <td>-94119.335177</td>\n",
       "      <td>0.905881</td>\n",
       "    </tr>\n",
       "    <tr>\n",
       "      <th>10</th>\n",
       "      <th>70</th>\n",
       "      <td>8.949499e+05</td>\n",
       "      <td>-105050.149751</td>\n",
       "      <td>0.894950</td>\n",
       "    </tr>\n",
       "    <tr>\n",
       "      <th>15</th>\n",
       "      <th>60</th>\n",
       "      <td>8.252977e+05</td>\n",
       "      <td>-174702.318259</td>\n",
       "      <td>0.825298</td>\n",
       "    </tr>\n",
       "    <tr>\n",
       "      <th>30</th>\n",
       "      <th>50</th>\n",
       "      <td>8.031585e+05</td>\n",
       "      <td>-196841.530321</td>\n",
       "      <td>0.803158</td>\n",
       "    </tr>\n",
       "    <tr>\n",
       "      <th>5</th>\n",
       "      <th>80</th>\n",
       "      <td>7.823138e+05</td>\n",
       "      <td>-217686.210073</td>\n",
       "      <td>0.782314</td>\n",
       "    </tr>\n",
       "    <tr>\n",
       "      <th>15</th>\n",
       "      <th>50</th>\n",
       "      <td>7.526178e+05</td>\n",
       "      <td>-247382.248348</td>\n",
       "      <td>0.752618</td>\n",
       "    </tr>\n",
       "    <tr>\n",
       "      <th>35</th>\n",
       "      <th>50</th>\n",
       "      <td>7.484586e+05</td>\n",
       "      <td>-251541.435417</td>\n",
       "      <td>0.748459</td>\n",
       "    </tr>\n",
       "    <tr>\n",
       "      <th>20</th>\n",
       "      <th>50</th>\n",
       "      <td>7.405914e+05</td>\n",
       "      <td>-259408.581980</td>\n",
       "      <td>0.740591</td>\n",
       "    </tr>\n",
       "    <tr>\n",
       "      <th>10</th>\n",
       "      <th>50</th>\n",
       "      <td>6.941257e+05</td>\n",
       "      <td>-305874.326907</td>\n",
       "      <td>0.694126</td>\n",
       "    </tr>\n",
       "    <tr>\n",
       "      <th>15</th>\n",
       "      <th>40</th>\n",
       "      <td>6.612692e+05</td>\n",
       "      <td>-338730.753185</td>\n",
       "      <td>0.661269</td>\n",
       "    </tr>\n",
       "    <tr>\n",
       "      <th>40</th>\n",
       "      <th>50</th>\n",
       "      <td>6.516242e+05</td>\n",
       "      <td>-348375.825338</td>\n",
       "      <td>0.651624</td>\n",
       "    </tr>\n",
       "    <tr>\n",
       "      <th>20</th>\n",
       "      <th>40</th>\n",
       "      <td>6.238508e+05</td>\n",
       "      <td>-376149.217714</td>\n",
       "      <td>0.623851</td>\n",
       "    </tr>\n",
       "    <tr>\n",
       "      <th>50</th>\n",
       "      <th>60</th>\n",
       "      <td>6.183024e+05</td>\n",
       "      <td>-381697.585985</td>\n",
       "      <td>0.618302</td>\n",
       "    </tr>\n",
       "    <tr>\n",
       "      <th>5</th>\n",
       "      <th>60</th>\n",
       "      <td>5.974733e+05</td>\n",
       "      <td>-402526.662386</td>\n",
       "      <td>0.597473</td>\n",
       "    </tr>\n",
       "    <tr>\n",
       "      <th>30</th>\n",
       "      <th>40</th>\n",
       "      <td>5.587581e+05</td>\n",
       "      <td>-441241.927061</td>\n",
       "      <td>0.558758</td>\n",
       "    </tr>\n",
       "    <tr>\n",
       "      <th>10</th>\n",
       "      <th>40</th>\n",
       "      <td>5.413603e+05</td>\n",
       "      <td>-458639.715507</td>\n",
       "      <td>0.541360</td>\n",
       "    </tr>\n",
       "    <tr>\n",
       "      <th>35</th>\n",
       "      <th>40</th>\n",
       "      <td>4.464709e+05</td>\n",
       "      <td>-553529.091862</td>\n",
       "      <td>0.446471</td>\n",
       "    </tr>\n",
       "    <tr>\n",
       "      <th>10</th>\n",
       "      <th>25</th>\n",
       "      <td>3.817154e+05</td>\n",
       "      <td>-618284.615856</td>\n",
       "      <td>0.381715</td>\n",
       "    </tr>\n",
       "    <tr>\n",
       "      <th>20</th>\n",
       "      <th>25</th>\n",
       "      <td>3.087355e+05</td>\n",
       "      <td>-691264.508961</td>\n",
       "      <td>0.308735</td>\n",
       "    </tr>\n",
       "    <tr>\n",
       "      <th>10</th>\n",
       "      <th>20</th>\n",
       "      <td>2.872435e+05</td>\n",
       "      <td>-712756.456652</td>\n",
       "      <td>0.287244</td>\n",
       "    </tr>\n",
       "    <tr>\n",
       "      <th>15</th>\n",
       "      <th>20</th>\n",
       "      <td>2.275383e+05</td>\n",
       "      <td>-772461.658777</td>\n",
       "      <td>0.227538</td>\n",
       "    </tr>\n",
       "    <tr>\n",
       "      <th>5</th>\n",
       "      <th>20</th>\n",
       "      <td>2.047494e+05</td>\n",
       "      <td>-795250.594137</td>\n",
       "      <td>0.204749</td>\n",
       "    </tr>\n",
       "  </tbody>\n",
       "</table>\n",
       "</div>"
      ],
      "text/plain": [
       "                 end         growth    return\n",
       "20 100  1.161962e+06  161961.513071  1.161962\n",
       "30 100  1.146747e+06  146746.859003  1.146747\n",
       "15 100  1.145166e+06  145166.024206  1.145166\n",
       "50 100  1.143619e+06  143619.028183  1.143619\n",
       "20 90   1.141758e+06  141757.596916  1.141758\n",
       "30 90   1.106860e+06  106860.493858  1.106860\n",
       "20 80   1.102236e+06  102235.540721  1.102236\n",
       "15 80   1.086937e+06   86937.209839  1.086937\n",
       "50 90   1.082011e+06   82010.783635  1.082011\n",
       "30 70   1.042426e+06   42425.663196  1.042426\n",
       "25 70   1.037572e+06   37571.761068  1.037572\n",
       "40 90   1.035188e+06   35187.635454  1.035188\n",
       "15 70   1.010711e+06   10711.332625  1.010711\n",
       "45 80   1.006746e+06    6745.693316  1.006746\n",
       "30 30   1.000000e+06       0.000000  1.000000\n",
       "10 80   9.455652e+05  -54434.817352  0.945565\n",
       "   100  9.380336e+05  -61966.357195  0.938034\n",
       "25 60   9.301671e+05  -69832.858199  0.930167\n",
       "30 60   9.058807e+05  -94119.335177  0.905881\n",
       "10 70   8.949499e+05 -105050.149751  0.894950\n",
       "15 60   8.252977e+05 -174702.318259  0.825298\n",
       "30 50   8.031585e+05 -196841.530321  0.803158\n",
       "5  80   7.823138e+05 -217686.210073  0.782314\n",
       "15 50   7.526178e+05 -247382.248348  0.752618\n",
       "35 50   7.484586e+05 -251541.435417  0.748459\n",
       "20 50   7.405914e+05 -259408.581980  0.740591\n",
       "10 50   6.941257e+05 -305874.326907  0.694126\n",
       "15 40   6.612692e+05 -338730.753185  0.661269\n",
       "40 50   6.516242e+05 -348375.825338  0.651624\n",
       "20 40   6.238508e+05 -376149.217714  0.623851\n",
       "50 60   6.183024e+05 -381697.585985  0.618302\n",
       "5  60   5.974733e+05 -402526.662386  0.597473\n",
       "30 40   5.587581e+05 -441241.927061  0.558758\n",
       "10 40   5.413603e+05 -458639.715507  0.541360\n",
       "35 40   4.464709e+05 -553529.091862  0.446471\n",
       "10 25   3.817154e+05 -618284.615856  0.381715\n",
       "20 25   3.087355e+05 -691264.508961  0.308735\n",
       "10 20   2.872435e+05 -712756.456652  0.287244\n",
       "15 20   2.275383e+05 -772461.658777  0.227538\n",
       "5  20   2.047494e+05 -795250.594137  0.204749"
      ]
     },
     "execution_count": 62,
     "metadata": {},
     "output_type": "execute_result"
    }
   ],
   "source": [
    "return_opt.sort_values(\"growth\", ascending=False)"
   ]
  },
  {
   "cell_type": "code",
   "execution_count": 57,
   "metadata": {
    "ExecuteTime": {
     "end_time": "2020-08-13T14:34:19.663161Z",
     "start_time": "2020-08-13T14:34:19.596339Z"
    }
   },
   "outputs": [],
   "source": [
    "fast_opt, slow_opt = return_opt.sort_values(\"growth\", ascending=False).iloc[0].name\n",
    " \n",
    "cerebro_opt = bt.Cerebro(stdstats=False)\n",
    "cerebro_opt.broker.set_cash(1000000)\n",
    "cerebro_opt.broker.setcommission(0.02)\n",
    "cerebro_opt.addobserver(AcctValue)\n",
    "cerebro_opt.addstrategy(SMAC, fast=fast_opt, slow=slow_opt)\n",
    "cerebro_opt.addsizer(PropSizer)\n",
    " \n",
    "cerebro_test = deepcopy(cerebro_opt)"
   ]
  },
  {
   "cell_type": "code",
   "execution_count": 58,
   "metadata": {
    "ExecuteTime": {
     "end_time": "2020-08-13T14:35:08.883004Z",
     "start_time": "2020-08-13T14:34:53.870219Z"
    }
   },
   "outputs": [],
   "source": [
    "start = datetime.datetime(2010, 1, 1)\n",
    "end = datetime.datetime(2016, 10, 31)\n",
    "is_first = True\n",
    "# Not the same set of symbols as in other blog posts\n",
    "symbols = [\"AAPL\", \"GOOG\", \"MSFT\", \"AMZN\", \"SNY\", \"NTDOY\", \"IBM\", \"HPQ\", \"QCOM\", \"NVDA\"]\n",
    "plot_symbols = [\"AAPL\", \"GOOG\", \"NVDA\"]\n",
    "#plot_symbols = []\n",
    "for s in symbols:\n",
    "\n",
    "    data = web.DataReader(\n",
    "            name = s,\n",
    "            data_source = 'yahoo',\n",
    "            start = '2010-01-01',\n",
    "            end = '2016-10-31'  \n",
    "        ).rename(\n",
    "            columns = {\n",
    "                'Open': 'open',\n",
    "                'High': 'high',\n",
    "                'Low': 'low',\n",
    "                'Close': 'close',\n",
    "                'Volume': 'volume'\n",
    "            }\n",
    "            \n",
    "        )\n",
    "\n",
    "\n",
    "    data = bt.feeds.PandasData(dataname = data, fromdate = start, todate = end)\n",
    "    if s in plot_symbols:\n",
    "        if is_first:\n",
    "            data_main_plot = data\n",
    "            is_first = False\n",
    "        else:\n",
    "            data.plotinfo.plotmaster = data_main_plot\n",
    "    else:\n",
    "        data.plotinfo.plot = False\n",
    "    cerebro_opt.adddata(data, name = s)    # Give the data to cerebro"
   ]
  },
  {
   "cell_type": "code",
   "execution_count": 59,
   "metadata": {
    "ExecuteTime": {
     "end_time": "2020-08-13T14:35:50.618040Z",
     "start_time": "2020-08-13T14:35:43.868616Z"
    }
   },
   "outputs": [
    {
     "name": "stdout",
     "output_type": "stream",
     "text": [
      "Wall time: 6.74 s\n"
     ]
    },
    {
     "data": {
      "text/plain": [
       "[<__main__.SMAC at 0x1f80f5c3b88>]"
      ]
     },
     "execution_count": 59,
     "metadata": {},
     "output_type": "execute_result"
    }
   ],
   "source": [
    "%time cerebro_opt.run()"
   ]
  },
  {
   "cell_type": "code",
   "execution_count": 60,
   "metadata": {
    "ExecuteTime": {
     "end_time": "2020-08-13T14:35:56.434608Z",
     "start_time": "2020-08-13T14:35:56.427612Z"
    }
   },
   "outputs": [
    {
     "data": {
      "text/plain": [
       "1161961.5130710602"
      ]
     },
     "execution_count": 60,
     "metadata": {},
     "output_type": "execute_result"
    }
   ],
   "source": [
    "cerebro_opt.broker.get_value()"
   ]
  },
  {
   "cell_type": "code",
   "execution_count": 83,
   "metadata": {
    "ExecuteTime": {
     "end_time": "2020-08-13T14:52:31.266608Z",
     "start_time": "2020-08-13T14:52:31.260624Z"
    }
   },
   "outputs": [],
   "source": [
    "import numpy as np"
   ]
  },
  {
   "cell_type": "code",
   "execution_count": 118,
   "metadata": {
    "ExecuteTime": {
     "end_time": "2020-08-13T15:10:12.022329Z",
     "start_time": "2020-08-13T15:10:11.454142Z"
    }
   },
   "outputs": [
    {
     "data": {
      "text/html": [
       "<div>\n",
       "<style scoped>\n",
       "    .dataframe tbody tr th:only-of-type {\n",
       "        vertical-align: middle;\n",
       "    }\n",
       "\n",
       "    .dataframe tbody tr th {\n",
       "        vertical-align: top;\n",
       "    }\n",
       "\n",
       "    .dataframe thead th {\n",
       "        text-align: right;\n",
       "    }\n",
       "</style>\n",
       "<table border=\"1\" class=\"dataframe\">\n",
       "  <thead>\n",
       "    <tr style=\"text-align: right;\">\n",
       "      <th></th>\n",
       "      <th>AAPL</th>\n",
       "      <th>GOOG</th>\n",
       "      <th>MSFT</th>\n",
       "      <th>AMZN</th>\n",
       "      <th>SNY</th>\n",
       "      <th>NTDOY</th>\n",
       "      <th>IBM</th>\n",
       "      <th>HPQ</th>\n",
       "      <th>QCOM</th>\n",
       "      <th>NVDA</th>\n",
       "    </tr>\n",
       "  </thead>\n",
       "  <tbody>\n",
       "    <tr>\n",
       "      <th>0</th>\n",
       "      <td>113.540001</td>\n",
       "      <td>784.539978</td>\n",
       "      <td>59.919998</td>\n",
       "      <td>789.820007</td>\n",
       "      <td>38.889999</td>\n",
       "      <td>30.090000</td>\n",
       "      <td>153.690002</td>\n",
       "      <td>14.49</td>\n",
       "      <td>68.720001</td>\n",
       "      <td>71.160004</td>\n",
       "    </tr>\n",
       "    <tr>\n",
       "      <th>1</th>\n",
       "      <td>113.720001</td>\n",
       "      <td>795.369995</td>\n",
       "      <td>59.869999</td>\n",
       "      <td>776.320007</td>\n",
       "      <td>38.840000</td>\n",
       "      <td>30.170000</td>\n",
       "      <td>152.610001</td>\n",
       "      <td>14.09</td>\n",
       "      <td>68.400002</td>\n",
       "      <td>70.559998</td>\n",
       "    </tr>\n",
       "    <tr>\n",
       "      <th>2</th>\n",
       "      <td>114.480003</td>\n",
       "      <td>795.349976</td>\n",
       "      <td>60.099998</td>\n",
       "      <td>818.359985</td>\n",
       "      <td>37.250000</td>\n",
       "      <td>29.650000</td>\n",
       "      <td>153.350006</td>\n",
       "      <td>13.99</td>\n",
       "      <td>70.089996</td>\n",
       "      <td>70.680000</td>\n",
       "    </tr>\n",
       "    <tr>\n",
       "      <th>3</th>\n",
       "      <td>115.589996</td>\n",
       "      <td>799.070007</td>\n",
       "      <td>60.630001</td>\n",
       "      <td>822.590027</td>\n",
       "      <td>37.060001</td>\n",
       "      <td>28.030001</td>\n",
       "      <td>151.809998</td>\n",
       "      <td>13.91</td>\n",
       "      <td>68.199997</td>\n",
       "      <td>72.160004</td>\n",
       "    </tr>\n",
       "    <tr>\n",
       "      <th>4</th>\n",
       "      <td>118.250000</td>\n",
       "      <td>807.669983</td>\n",
       "      <td>60.990002</td>\n",
       "      <td>835.179993</td>\n",
       "      <td>37.389999</td>\n",
       "      <td>29.580000</td>\n",
       "      <td>150.880005</td>\n",
       "      <td>13.90</td>\n",
       "      <td>67.709999</td>\n",
       "      <td>71.870003</td>\n",
       "    </tr>\n",
       "    <tr>\n",
       "      <th>...</th>\n",
       "      <td>...</td>\n",
       "      <td>...</td>\n",
       "      <td>...</td>\n",
       "      <td>...</td>\n",
       "      <td>...</td>\n",
       "      <td>...</td>\n",
       "      <td>...</td>\n",
       "      <td>...</td>\n",
       "      <td>...</td>\n",
       "      <td>...</td>\n",
       "    </tr>\n",
       "    <tr>\n",
       "      <th>95</th>\n",
       "      <td>97.550003</td>\n",
       "      <td>710.359985</td>\n",
       "      <td>50.389999</td>\n",
       "      <td>717.510010</td>\n",
       "      <td>38.400002</td>\n",
       "      <td>17.670000</td>\n",
       "      <td>151.059998</td>\n",
       "      <td>12.98</td>\n",
       "      <td>53.419998</td>\n",
       "      <td>47.549999</td>\n",
       "    </tr>\n",
       "    <tr>\n",
       "      <th>96</th>\n",
       "      <td>97.139999</td>\n",
       "      <td>718.919983</td>\n",
       "      <td>49.689999</td>\n",
       "      <td>714.260010</td>\n",
       "      <td>38.169998</td>\n",
       "      <td>17.780001</td>\n",
       "      <td>150.679993</td>\n",
       "      <td>13.00</td>\n",
       "      <td>53.279999</td>\n",
       "      <td>47.360001</td>\n",
       "    </tr>\n",
       "    <tr>\n",
       "      <th>97</th>\n",
       "      <td>97.459999</td>\n",
       "      <td>718.270020</td>\n",
       "      <td>49.830002</td>\n",
       "      <td>719.299988</td>\n",
       "      <td>38.130001</td>\n",
       "      <td>17.820000</td>\n",
       "      <td>151.059998</td>\n",
       "      <td>13.05</td>\n",
       "      <td>52.700001</td>\n",
       "      <td>46.880001</td>\n",
       "    </tr>\n",
       "    <tr>\n",
       "      <th>98</th>\n",
       "      <td>97.339996</td>\n",
       "      <td>718.359985</td>\n",
       "      <td>50.139999</td>\n",
       "      <td>715.239990</td>\n",
       "      <td>39.000000</td>\n",
       "      <td>18.010000</td>\n",
       "      <td>151.279999</td>\n",
       "      <td>13.03</td>\n",
       "      <td>52.830002</td>\n",
       "      <td>46.790001</td>\n",
       "    </tr>\n",
       "    <tr>\n",
       "      <th>99</th>\n",
       "      <td>98.830002</td>\n",
       "      <td>719.409973</td>\n",
       "      <td>51.480000</td>\n",
       "      <td>717.909973</td>\n",
       "      <td>39.410000</td>\n",
       "      <td>18.500000</td>\n",
       "      <td>152.369995</td>\n",
       "      <td>13.50</td>\n",
       "      <td>53.830002</td>\n",
       "      <td>46.200001</td>\n",
       "    </tr>\n",
       "  </tbody>\n",
       "</table>\n",
       "<p>100 rows × 10 columns</p>\n",
       "</div>"
      ],
      "text/plain": [
       "          AAPL        GOOG       MSFT        AMZN        SNY      NTDOY  \\\n",
       "0   113.540001  784.539978  59.919998  789.820007  38.889999  30.090000   \n",
       "1   113.720001  795.369995  59.869999  776.320007  38.840000  30.170000   \n",
       "2   114.480003  795.349976  60.099998  818.359985  37.250000  29.650000   \n",
       "3   115.589996  799.070007  60.630001  822.590027  37.060001  28.030001   \n",
       "4   118.250000  807.669983  60.990002  835.179993  37.389999  29.580000   \n",
       "..         ...         ...        ...         ...        ...        ...   \n",
       "95   97.550003  710.359985  50.389999  717.510010  38.400002  17.670000   \n",
       "96   97.139999  718.919983  49.689999  714.260010  38.169998  17.780001   \n",
       "97   97.459999  718.270020  49.830002  719.299988  38.130001  17.820000   \n",
       "98   97.339996  718.359985  50.139999  715.239990  39.000000  18.010000   \n",
       "99   98.830002  719.409973  51.480000  717.909973  39.410000  18.500000   \n",
       "\n",
       "           IBM    HPQ       QCOM       NVDA  \n",
       "0   153.690002  14.49  68.720001  71.160004  \n",
       "1   152.610001  14.09  68.400002  70.559998  \n",
       "2   153.350006  13.99  70.089996  70.680000  \n",
       "3   151.809998  13.91  68.199997  72.160004  \n",
       "4   150.880005  13.90  67.709999  71.870003  \n",
       "..         ...    ...        ...        ...  \n",
       "95  151.059998  12.98  53.419998  47.549999  \n",
       "96  150.679993  13.00  53.279999  47.360001  \n",
       "97  151.059998  13.05  52.700001  46.880001  \n",
       "98  151.279999  13.03  52.830002  46.790001  \n",
       "99  152.369995  13.50  53.830002  46.200001  \n",
       "\n",
       "[100 rows x 10 columns]"
      ]
     },
     "execution_count": 118,
     "metadata": {},
     "output_type": "execute_result"
    }
   ],
   "source": [
    "close_df = pd.DataFrame()\n",
    "\n",
    "for dataname in cerebro_opt.datasbyname.keys():\n",
    "    data = cerebro_opt.datasbyname[dataname]\n",
    "    close_prices = list()\n",
    "    for i in np.arange(0, -100, -1):\n",
    "        close_prices.append(data.close[i])\n",
    "    prices = pd.Series(close_prices)\n",
    "    close_df[dataname] = prices\n",
    "close_df"
   ]
  },
  {
   "cell_type": "code",
   "execution_count": 119,
   "metadata": {
    "ExecuteTime": {
     "end_time": "2020-08-13T15:12:50.530191Z",
     "start_time": "2020-08-13T15:12:50.497354Z"
    }
   },
   "outputs": [],
   "source": [
    "from sklearn.decomposition import PCA"
   ]
  },
  {
   "cell_type": "code",
   "execution_count": 120,
   "metadata": {
    "ExecuteTime": {
     "end_time": "2020-08-13T15:13:43.233533Z",
     "start_time": "2020-08-13T15:13:39.161275Z"
    }
   },
   "outputs": [
    {
     "data": {
      "text/plain": [
       "PCA(n_components=1)"
      ]
     },
     "execution_count": 120,
     "metadata": {},
     "output_type": "execute_result"
    }
   ],
   "source": [
    "pca = PCA(n_components = 1)\n",
    "pca.fit(close_df)"
   ]
  },
  {
   "cell_type": "code",
   "execution_count": 123,
   "metadata": {
    "ExecuteTime": {
     "end_time": "2020-08-13T15:14:26.693139Z",
     "start_time": "2020-08-13T15:14:26.656769Z"
    }
   },
   "outputs": [
    {
     "data": {
      "text/plain": [
       "array([0.90457891])"
      ]
     },
     "execution_count": 123,
     "metadata": {},
     "output_type": "execute_result"
    }
   ],
   "source": [
    "pca.explained_variance_ratio_"
   ]
  },
  {
   "cell_type": "code",
   "execution_count": 144,
   "metadata": {
    "ExecuteTime": {
     "end_time": "2020-08-13T15:28:50.080825Z",
     "start_time": "2020-08-13T15:28:49.652946Z"
    }
   },
   "outputs": [
    {
     "data": {
      "text/plain": [
       "<matplotlib.axes._subplots.AxesSubplot at 0x1f81c90dd08>"
      ]
     },
     "execution_count": 144,
     "metadata": {},
     "output_type": "execute_result"
    },
    {
     "data": {
      "image/png": "[encoded data removed]",
      "text/plain": [
       "<Figure size 432x288 with 1 Axes>"
      ]
     },
     "metadata": {
      "needs_background": "light"
     },
     "output_type": "display_data"
    }
   ],
   "source": [
    "pd.DataFrame(pca.components_, index = ['loadings'], columns = close_df.columns).transpose()['loadings'].plot(kind = 'bar')"
   ]
  },
  {
   "cell_type": "code",
   "execution_count": 139,
   "metadata": {
    "ExecuteTime": {
     "end_time": "2020-08-13T15:25:09.371623Z",
     "start_time": "2020-08-13T15:25:05.169201Z"
    }
   },
   "outputs": [],
   "source": [
    "import seaborn as sns"
   ]
  },
  {
   "cell_type": "code",
   "execution_count": 146,
   "metadata": {
    "ExecuteTime": {
     "end_time": "2020-08-13T15:29:28.687584Z",
     "start_time": "2020-08-13T15:29:26.580650Z"
    }
   },
   "outputs": [
    {
     "data": {
      "text/plain": [
       "<Figure size 1008x432 with 0 Axes>"
      ]
     },
     "metadata": {},
     "output_type": "display_data"
    },
    {
     "data": {
      "image/png": "[encoded data removed]",
      "text/plain": [
       "<Figure size 720x720 with 4 Axes>"
      ]
     },
     "metadata": {
      "needs_background": "light"
     },
     "output_type": "display_data"
    }
   ],
   "source": [
    "fig = plt.figure(figsize = (14, 6))\n",
    "g = sns.clustermap(close_df.corr(), annot = True)"
   ]
  }
 ],
 "metadata": {
  "colab": {
   "authorship_tag": "ABX9TyP4/TFGNdoNwiJGFxdyfzjV",
   "collapsed_sections": [],
   "name": "Untitled0.ipynb",
   "provenance": []
  },
  "kernelspec": {
   "display_name": "Python 3",
   "language": "python",
   "name": "python3"
  },
  "language_info": {
   "codemirror_mode": {
    "name": "ipython",
    "version": 3
   },
   "file_extension": ".py",
   "mimetype": "text/x-python",
   "name": "python",
   "nbconvert_exporter": "python",
   "pygments_lexer": "ipython3",
   "version": "3.6.10"
  },
  "toc": {
   "base_numbering": 1,
   "nav_menu": {},
   "number_sections": true,
   "sideBar": true,
   "skip_h1_title": false,
   "title_cell": "Table of Contents",
   "title_sidebar": "Contents",
   "toc_cell": false,
   "toc_position": {},
   "toc_section_display": true,
   "toc_window_display": false
  },
  "varInspector": {
   "cols": {
    "lenName": 16,
    "lenType": 16,
    "lenVar": 40
   },
   "kernels_config": {
    "python": {
     "delete_cmd_postfix": "",
     "delete_cmd_prefix": "del ",
     "library": "var_list.py",
     "varRefreshCmd": "print(var_dic_list())"
    },
    "r": {
     "delete_cmd_postfix": ") ",
     "delete_cmd_prefix": "rm(",
     "library": "var_list.r",
     "varRefreshCmd": "cat(var_dic_list()) "
    }
   },
   "types_to_exclude": [
    "module",
    "function",
    "builtin_function_or_method",
    "instance",
    "_Feature"
   ],
   "window_display": false
  }
 },
 "nbformat": 4,
 "nbformat_minor": 1
}
